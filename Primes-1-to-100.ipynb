{
 "cells": [
  {
   "cell_type": "code",
   "execution_count": 1,
   "metadata": {},
   "outputs": [
    {
     "name": "stdout",
     "output_type": "stream",
     "text": [
      "Prime numbers between 1 and 100 are:\n",
      "2, 3, 5, 7, 11, 13, 17, 19, 23, 29, 31, 37, 41, 43, 47, 53, 59, 61, 67, 71, 73, 79, 83, 89 and 97."
     ]
    }
   ],
   "source": [
    "# This programme prints prime numbers between 1 and 100\n",
    "\n",
    "print(\"Prime numbers between 1 and 100 are:\")\n",
    "Primes = []\n",
    "\n",
    "# The for loop cycles through numbers 1-100, if N can be divided by any number \n",
    "# other than 1 and itself (leaving no remainder) then it is not prime. \n",
    "for N in range(1, 100):\n",
    "    if N > 1:                      # use N>1 as 1 is not prime so we don't want this in the list\n",
    "        for i in range ( 2, N ):    \n",
    "            if (N % i) == 0:       # if there is no remainder when dividing N is not prime\n",
    "                break\n",
    "        else:\n",
    "            # add N to Primes array\n",
    "            Primes.append(N)\n",
    "\n",
    "# edit display output            \n",
    "print (*Primes[:-1], sep = ', ', end = ' and ')\n",
    "print (*Primes[-1:], end = '.')\n"
   ]
  },
  {
   "cell_type": "code",
   "execution_count": null,
   "metadata": {},
   "outputs": [],
   "source": []
  }
 ],
 "metadata": {
  "kernelspec": {
   "display_name": "Python 3",
   "language": "python",
   "name": "python3"
  },
  "language_info": {
   "codemirror_mode": {
    "name": "ipython",
    "version": 3
   },
   "file_extension": ".py",
   "mimetype": "text/x-python",
   "name": "python",
   "nbconvert_exporter": "python",
   "pygments_lexer": "ipython3",
   "version": "3.7.6"
  }
 },
 "nbformat": 4,
 "nbformat_minor": 4
}
